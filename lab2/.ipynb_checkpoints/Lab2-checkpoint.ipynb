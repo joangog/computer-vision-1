{
 "cells": [
  {
   "cell_type": "markdown",
   "metadata": {
    "id": "NbTUIJVrAaIr"
   },
   "source": [
    "<center><img src=\"http://what-when-how.com/wp-content/uploads/2012/07/tmp26dc139_thumb.png\" width=50% > </center>\n",
    "\n",
    "# <center> Assignment 2: Neighborhood Processing & Filters </center>\n",
    "<center> Computer Vision 1 University of Amsterdam </center>\n",
    "    <center> Due 23:59PM, September 24, 2022 (Amsterdam time) </center>\n",
    "    \n",
    "***"
   ]
  },
  {
   "cell_type": "markdown",
   "metadata": {
    "id": "ufYIQhgROv4X"
   },
   "source": [
    "##(100 pts)"
   ]
  },
  {
   "cell_type": "markdown",
   "metadata": {
    "id": "UMW9vG1dBifa"
   },
   "source": [
    "## General guidelines\n",
    "Your code and discussion must be completed in this **jupyter notebook** before the deadline by submitting it to the Canvas Lab 2 Assignment. Submit your assignment in a **zip file**, with all the relevant files and images need to run your notebook. Name your zip file as follows:  **StudentID1_StudentID2_StudentID3.zip**\n",
    "For full credit, make sure you follow these guidelines:\n",
    "\n",
    "- Make sure you use the provided python environment. You can create the environment using conda and the provided YAML file using the following command: `conda env create --file=CV1_env.yaml`, then activate it as `conda activate cv1`. Using different packages versions may result in the impossibility to run the submitted code and therefore in the subtraction of points. Below you will find a code cell to check the versions of your packages. \n",
    "- Please express your thoughts concisely. The number of words does not necessarily correlate with how well you understand the concepts.\n",
    "- Answer all given questions.\n",
    "- Try to understand the problem as much as you can. When answering a question, give evidences (qualitative and/or quantitative results, references to papers, figures etc.) to support your arguments. Note that not everything might be explicitly asked for and you are expected to think about what might strengthen you arguments and make your notebook self-contained and complete.\n",
    "- Analyze your results and discuss them, e.g. why algorithm A works better than algorithm B in a certain problem.\n",
    "- Tables and figures must be accompanied by a brief description. Do not forget to add a number, a title, and if applicable name and unit of variables in a table, name and unit of axes and legends in a figure.\n",
    "- Make sure all the code in your notebook runs without errors or bugs before submitting. Code that does not run can result in a lower grade. \n",
    "\n",
    "Late submissions are not allowed. Assignments that are submitted after the strict deadline will not be graded. In case of submission conflicts, TAs’ system clock is taken as reference. We strongly recommend submitting well in advance, to avoid last minute system failure issues.\n",
    "Plagiarism note: Keep in mind that plagiarism (submitted materials which are not your work) is a serious crime and any misconduct shall be punished with the university regulations."
   ]
  },
  {
   "cell_type": "code",
   "execution_count": 2,
   "metadata": {
    "id": "nBCvx1UiTn_j"
   },
   "outputs": [],
   "source": [
    "import cv2\n",
    "import matplotlib\n",
    "import matplotlib.pyplot as plt\n",
    "import math\n",
    "import numpy as np\n",
    "import time\n",
    "import sklearn\n",
    "from sklearn.decomposition import PCA\n",
    "import requests"
   ]
  },
  {
   "cell_type": "code",
   "execution_count": 3,
   "metadata": {
    "colab": {
     "base_uri": "https://localhost:8080/",
     "height": 235
    },
    "executionInfo": {
     "elapsed": 226,
     "status": "error",
     "timestamp": 1663316103937,
     "user": {
      "displayName": "Pieter Pierrot",
      "userId": "05479018623794835299"
     },
     "user_tz": -120
    },
    "id": "DXbuUaRUud2H",
    "outputId": "d644980b-991a-4048-c408-a6827525b962"
   },
   "outputs": [],
   "source": [
    "# Make sure you're using the provided environment!\n",
    "assert cv2.__version__ == \"3.4.2\", \"You're not using the provided Python environment!\"\n",
    "assert np.__version__ == \"1.19.5\", \"You're not using the provided Python environment!\"\n",
    "assert matplotlib.__version__ == \"3.3.4\", \"You're not using the provided Python environment!\"\n",
    "assert sklearn.__version__ == \"0.23.0\"\n",
    "\n",
    "# Proceed to the next cell only if you don't get any error.\n"
   ]
  },
  {
   "cell_type": "markdown",
   "metadata": {
    "id": "OIIOhzlprt6C"
   },
   "source": [
    "# 1 Introduction "
   ]
  },
  {
   "cell_type": "markdown",
   "metadata": {
    "id": "-NbweJbQCUny"
   },
   "source": [
    "\n",
    "In this assignment, you will get familiar with fundamentals of neighborhood processing for image processing. These techniques allow for low-level image understanding via extraction of structural patterns such as edges and blobs. Similarly, they find an extensive use in image denoising and higher level image reasoning such as shape recognition. Moreover, neighborhood or block processing is one of the key components of *Convolutional Neural Networks*. Therefore, a good understanding of these\n",
    "procedures will be a stepping stone towards understanding more complex machinery used in computer vision and machine learning.\n",
    "\n",
    "In subsequent sections of this assignment, we will first explain neighborhood processing and introduce low-level filters commonly used to analyze images. After that, we will see how these mathematical concepts relate to practice by working through fundamental tasks such as denoising and segmentation. By the end of this assignment, you will have an overall understanding of the following:\n",
    "* Gaussian and Gabor filters\n",
    "* Edge detection and image denoising\n",
    "* Texture-based image segmentation\n",
    "\n",
    "\n",
    "---\n",
    "\n",
    "\n",
    "First we need two helper functions "
   ]
  },
  {
   "cell_type": "code",
   "execution_count": 4,
   "metadata": {
    "id": "e1GK_-R4cWPb"
   },
   "outputs": [],
   "source": [
    "### Use this for the last exercise\n",
    "\n",
    "def load_image(image_id: str='Polar'):\n",
    "  '''\n",
    "  Loads an image, resizes image with proper resize factor and sets proper color representation\n",
    "  :param image_id: id of an image: Kobi, Polar, Robin-1, Robin-2, Cows, SciencePark\n",
    "  :return: image\n",
    "  '''\n",
    "  if image_id == 'Kobi':\n",
    "    img = cv2.imread('./sample_data/kobi.png')\n",
    "    img = cv2.cvtColor(img, cv2.COLOR_BGR2RGB)\n",
    "    resize_factor = 0.25\n",
    "  elif image_id == 'Polar':\n",
    "    img = cv2.imread('./sample_data/polar-bear-hiding.jpg')\n",
    "    img = cv2.cvtColor(img, cv2.COLOR_BGR2RGB)\n",
    "    resize_factor = 0.75\n",
    "  elif image_id == 'Robin-1':\n",
    "    img = cv2.imread('./sample_data/robin-1.jpg')\n",
    "    img = cv2.cvtColor(img, cv2.COLOR_BGR2RGB)\n",
    "    resize_factor = 1\n",
    "  elif image_id == 'Robin-2':\n",
    "    img = cv2.imread('./sample_data/robin-2.jpg')\n",
    "    img = cv2.cvtColor(img, cv2.COLOR_BGR2RGB)\n",
    "    resize_factor = 0.5\n",
    "  elif image_id == 'Cows':\n",
    "    img = cv2.imread('./sample_data/cows.jpg')\n",
    "    img = cv2.cvtColor(img, cv2.COLOR_BGR2RGB)\n",
    "    resize_factor = 0.5\n",
    "  elif image_id == 'SciencePark':\n",
    "    img = cv2.imread('./sample_data/sciencepark.jpg')\n",
    "    img = cv2.cvtColor(img, cv2.COLOR_BGR2RGB)\n",
    "    resize_factor = 0.2\n",
    "  else:\n",
    "    raise ValueError('Image not available.')\n",
    "  img = cv2.resize(img, (0, 0), fx=resize_factor, fy=resize_factor)\n",
    "  img = cv2.cvtColor(img, cv2.COLOR_RGB2GRAY)\n",
    "  return img"
   ]
  },
  {
   "cell_type": "code",
   "execution_count": 5,
   "metadata": {
    "id": "d-4o3ljKeJku"
   },
   "outputs": [],
   "source": [
    "def show_image(image, image_title:str= \"Polar\", cmap='gray'):\n",
    "  '''Displays image in grey scale'''\n",
    "  plt.figure()\n",
    "  plt.title(image_title)\n",
    "  plt.imshow(image, cmap=cmap)\n",
    "  plt.axis(\"off\")"
   ]
  },
  {
   "cell_type": "markdown",
   "metadata": {
    "id": "fk8dblKYr2z4"
   },
   "source": [
    "# 2 Neighborhood Processing"
   ]
  },
  {
   "cell_type": "markdown",
   "metadata": {
    "id": "wI0keTjXDhS0"
   },
   "source": [
    "\n",
    "Neighborhood processing is simply about looking around a point $I(x, y)$ (i.e. pixel) in the image, $I$, and applying a function, $h(k, l)$, which measures certain properties or relationships between the pixels in that localized window. The function, $h(k, l)$, is generally referred to as the neighborhood operator or local operator. One of the most common forms of a neighborhood operator is a linear filter. Linear filters simply compute the weighted sum of neighboring pixel intensities and assign it to the pixel of interest (output $I_{out}(i, j)$). The filters in which we are interested here are usually represented as a square matrix.\n",
    "\n",
    "---\n",
    "**Hint**: Filters, kernels, weight matrices or masks are interchangeably used in the literature. A kernel is a matrix with which we describe a neighborhood operation. This operation can, for example, be edge detection or smoothing.\n",
    "\n",
    "---\n",
    "\n",
    "Linear filters are shifted over the entire image plane via operators such as correlation ($\\otimes$) and convolution ($\\ast$). Both of these operators are *linear shift-invariant* (LSI) implying that the filters behave the same way over the entire image. Discrete forms of these operators are given in the following:\n",
    "\n",
    "\n",
    "Correlation (1):\n",
    "<center>\n",
    "$\\mathbf{I}_{out} = I \\otimes  \\mathbf{h}\\\\\n",
    " \\mathbf{I}_{out}(i,j) = \\sum_{k,l}  \\mathbf{I}(i+k,j+l) \\mathbf{h}(k,l)$\n",
    "</center>\n",
    "Convolution (2):\n",
    "<center>\n",
    "$    \\mathbf{I}_{out} = \\mathbf{I} \\ast  \\mathbf{h}\\\\\n",
    " \\mathbf{I}_{out}(i,j) = \\sum_{k,l} \\mathbf{I}(i-k,j-l) \\mathbf{h}(k,l)$\n",
    " </center>\n",
    "\n",
    "\n",
    "---\n",
    "The following example illustrates the overall idea of neighborhood processing. The kernel or the mask convolves over the input image. In the case of linear filters, this is simply multiplying each pixel intensity with the corresponding weight in the kernel (see the yellowish $7x7$ window where the kernel is placed). In the example, the kernel is $7x7$ averaging mask. You can see its effect by comparing the red (before filtering) and the green (after filtering) frames.\n",
    "\n",
    "\n",
    "\n"
   ]
  },
  {
   "cell_type": "markdown",
   "metadata": {
    "id": "6hQY3W1wLmHv"
   },
   "source": [
    "**Example:**\n",
    "![](https://drive.google.com/uc?export=view&id=1HXt-WTi2Mg-jHYU4tvcKl4R29gi-g1QY)"
   ]
  },
  {
   "cell_type": "markdown",
   "metadata": {
    "id": "7mZ_fs1wWRl8"
   },
   "source": [
    "### Question (10 pts)\n",
    "1.   What is the difference between correlation and convolution operators? How do they treat the signals $\\mathbf{I}$ and $\\mathbf{h}$?\n",
    "2.   Correlation and convolution operators are equivalent when we make an assumption on the form of the mask $\\mathbf{h}$. Can you identify the case?\n"
   ]
  },
  {
   "cell_type": "markdown",
   "metadata": {
    "id": "ylaRzZZNLPpU"
   },
   "source": [
    "YOUR ANSWER HERE"
   ]
  },
  {
   "cell_type": "markdown",
   "metadata": {
    "id": "DJlTkHdTOROo"
   },
   "source": [
    "# 3 Low-level filters\n"
   ]
  },
  {
   "cell_type": "markdown",
   "metadata": {
    "id": "6Blbzx35sVsf"
   },
   "source": [
    "In this section, you will design common linear filters used in neighborhood processing. We will focus in particular on Gaussian and Gabor filters."
   ]
  },
  {
   "cell_type": "markdown",
   "metadata": {
    "id": "_NhWPur7P1_Q"
   },
   "source": [
    "## 3.1 Gaussian Filters"
   ]
  },
  {
   "cell_type": "markdown",
   "metadata": {
    "id": "1oBHyce1saAI"
   },
   "source": [
    "### 3.1.1 1D Gaussian Filter"
   ]
  },
  {
   "cell_type": "markdown",
   "metadata": {
    "id": "NyGUgGekPz-a"
   },
   "source": [
    "\n",
    "\n",
    "The 1D  Gaussian filter is defined as follows:\n",
    "<center>\n",
    "$ G_{\\sigma}(x)=\\frac{1}{\\sigma\\sqrt{2\\pi}}\\text{ exp}(-\\frac{x^2}{2\\sigma^2}),$\n",
    "</center>\n",
    "where $\\sigma$ is the variance of the Gaussian. However, such formulation creates an infinitely large convolution kernel. In practice, the kernel is truncated with a `kernel_size` parameter such that $-\\left\\lfloor \\frac{kernel\\_size}{2}\\right\\rfloor \\leq x \\leq \\left\\lfloor \\frac{kernel\\_size}{2} \\right\\rfloor$, where $\\left\\lfloor . \\right\\rfloor$ is the floor operator. As an example, if `kernel_size` equals 3, $x \\in \\{ -1, 0, 1 \\} $."
   ]
  },
  {
   "cell_type": "markdown",
   "metadata": {
    "id": "V2NtMMr9RSVv"
   },
   "source": [
    "### Exercise \n",
    "Now, implement the following *gauss1D* function.\n",
    "\n",
    "**Hint:** \n",
    "Do not forget to normalize your filter.\n",
    "\n",
    "**Note:** You are not allowed to use a Python built-in function provided by *SciPy* or other libraries to compute the kernel."
   ]
  },
  {
   "cell_type": "code",
   "execution_count": 6,
   "metadata": {
    "colab": {
     "base_uri": "https://localhost:8080/"
    },
    "id": "b4f5nPDqBdf_",
    "outputId": "8f020ddf-2b1a-45ce-d685-19056676c7eb"
   },
   "outputs": [],
   "source": [
    "\n",
    "\n",
    "def gauss1D(sigma, kernel_size):\n",
    "  G = np.zeros((1, kernel_size))\n",
    "  if kernel_size % 2 == 0:\n",
    "    raise ValueError('kernel_size must be odd, otherwise the filter will not have a center to convolve on')\n",
    "\n",
    "# solution\n",
    "\n",
    "  return G      \n",
    "\n"
   ]
  },
  {
   "cell_type": "code",
   "execution_count": 7,
   "metadata": {
    "id": "MUwwgpFaR5XH"
   },
   "outputs": [
    {
     "ename": "AssertionError",
     "evalue": "",
     "output_type": "error",
     "traceback": [
      "\u001b[0;31m---------------------------------------------------------------------------\u001b[0m",
      "\u001b[0;31mAssertionError\u001b[0m                            Traceback (most recent call last)",
      "\u001b[0;32m<ipython-input-7-9c0b157158fe>\u001b[0m in \u001b[0;36m<module>\u001b[0;34m\u001b[0m\n\u001b[1;32m      1\u001b[0m \u001b[0;31m# Run this to test your function:\u001b[0m\u001b[0;34m\u001b[0m\u001b[0;34m\u001b[0m\u001b[0;34m\u001b[0m\u001b[0m\n\u001b[0;32m----> 2\u001b[0;31m \u001b[0;32massert\u001b[0m \u001b[0mnp\u001b[0m\u001b[0;34m.\u001b[0m\u001b[0mall\u001b[0m\u001b[0;34m(\u001b[0m\u001b[0mnp\u001b[0m\u001b[0;34m.\u001b[0m\u001b[0mround\u001b[0m\u001b[0;34m(\u001b[0m\u001b[0mgauss1D\u001b[0m\u001b[0;34m(\u001b[0m\u001b[0;36m2\u001b[0m\u001b[0;34m,\u001b[0m\u001b[0;36m5\u001b[0m\u001b[0;34m)\u001b[0m\u001b[0;34m,\u001b[0m \u001b[0;36m4\u001b[0m\u001b[0;34m)\u001b[0m \u001b[0;34m==\u001b[0m \u001b[0;34m[\u001b[0m\u001b[0;36m0.1525\u001b[0m\u001b[0;34m,\u001b[0m \u001b[0;36m0.2218\u001b[0m\u001b[0;34m,\u001b[0m \u001b[0;36m0.2514\u001b[0m\u001b[0;34m,\u001b[0m \u001b[0;36m0.2218\u001b[0m\u001b[0;34m,\u001b[0m \u001b[0;36m0.1525\u001b[0m\u001b[0;34m]\u001b[0m\u001b[0;34m)\u001b[0m \u001b[0;31m# check if values are close enough if assert gives error\u001b[0m\u001b[0;34m\u001b[0m\u001b[0;34m\u001b[0m\u001b[0m\n\u001b[0m",
      "\u001b[0;31mAssertionError\u001b[0m: "
     ]
    }
   ],
   "source": [
    "# Run this to test your function:\n",
    "assert np.all(np.round(gauss1D(2,5), 4) == [0.1525, 0.2218, 0.2514, 0.2218, 0.1525]) # check if values are close enough if assert gives error"
   ]
  },
  {
   "cell_type": "markdown",
   "metadata": {
    "id": "RkT7BklaTUmj"
   },
   "source": [
    "### 3.1.2 2D Gaussian Filter\n"
   ]
  },
  {
   "cell_type": "markdown",
   "metadata": {
    "id": "cW9S9S-CspJn"
   },
   "source": [
    "\n",
    "One of the most important properties of 2D Gaussian kernels is separability. Therefore, convolving an image with a 2D Gaussian is equivalent to convolving\n",
    "the image twice with a 1D Gaussian filter, once along the x-axis and once along the y-axis **separately**. A 2D Gaussian kernel can then be defined as a product of two 1D Gaussian kernels:\n",
    "<center>\n",
    "$\n",
    "G_{\\sigma}(x, y) = G_{\\sigma}(x) \\times G_{\\sigma}(y)$ *(Eq. A)*\n",
    "\n",
    "$\n",
    " = \\frac{1}{\\sigma^2 2\\pi}\\text{ exp}(-\\frac{x^2 + y^2}{2\\sigma^2})\n",
    " $ *(Eq. B)*\n",
    " </center>"
   ]
  },
  {
   "cell_type": "markdown",
   "metadata": {
    "id": "762bvpRYTual"
   },
   "source": [
    "### Exercise \n",
    "\n",
    "Implement `gauss2D` function that corresponds to *Eq. A* (not *Eq. B*) and you should make use of `gauss1D`.\n",
    "\n",
    "**Note:** Again, you are not allowed to use a Python built-in function provided by *SciPy* or other libraries to compute the kernel."
   ]
  },
  {
   "cell_type": "code",
   "execution_count": null,
   "metadata": {
    "colab": {
     "base_uri": "https://localhost:8080/"
    },
    "id": "WhfGMWffTtzm",
    "outputId": "62a98d7b-a3d5-4ada-b4c2-ef47982a4dea"
   },
   "outputs": [
    {
     "name": "stdout",
     "output_type": "stream",
     "text": [
      "(3, 3)\n"
     ]
    }
   ],
   "source": [
    "def gauss2D(sigma_x, sigma_y, kernel_size):\n",
    "# solution\n",
    "\n",
    "  return G             \n",
    "\n"
   ]
  },
  {
   "cell_type": "code",
   "execution_count": null,
   "metadata": {
    "id": "HgMHxPlgVbgQ"
   },
   "outputs": [],
   "source": [
    "# Run this to test your function:\n",
    "assert np.all( np.round(gauss2D(2, 2, 3) , 4) == [[0.1019, 0.1154, 0.1019],\n",
    "       [0.1154, 0.1308, 0.1154],\n",
    "       [0.1019, 0.1154, 0.1019]])"
   ]
  },
  {
   "cell_type": "markdown",
   "metadata": {
    "id": "-2ZB6tEeV_Ls"
   },
   "source": [
    "### Question (5pts)\n",
    "What is the difference between convolving an image with (1) a 2D Gaussian kernel and (2) a 1D Gaussian kernel in the x- and y-direction? Will the result be the same? What is their computational complexity?"
   ]
  },
  {
   "cell_type": "markdown",
   "metadata": {
    "id": "8gTOdwi4WCyi"
   },
   "source": [
    "YOUR ANSWER HERE"
   ]
  },
  {
   "cell_type": "markdown",
   "metadata": {
    "id": "ViVNlHPOa2Jd"
   },
   "source": [
    "### 3.1.3 Gaussian Derivatives\n",
    "So far the Gaussian kernels that we computed are mainly targeted to image enhancement algorithms (e.g. denoising an image). These kernels can also be used for detecting changes in the image intensity pixels. These low-level features can then further be used as building blocks for more complicated tasks like object detection or segmentation.\n",
    "\n",
    "\n",
    "Concretely, the  first order derivative of the 1D Gaussian kernel is given by:\n",
    "\n",
    "<center>\n",
    "$\n",
    "\\frac{d}{dx}G_\\sigma(x)  =\\frac{d}{dx}\\left( \\frac{1}{\\sigma\\sqrt{2\\pi}}\\exp(-\\frac{x^2}{2\\sigma^2}) \\right )$\n",
    "\n",
    "$\n",
    " = -\\frac{x}{\\sigma^3\\sqrt{2\\pi}}\\exp(-\\frac{x^2}{2\\sigma^2})$ \n",
    "*(Eq. C)*\n",
    "\n",
    " $\n",
    " = -\\frac{x}{\\sigma^2}G_\\sigma(x)\n",
    " $\n",
    "</center>\n",
    "Similarly, the first order derivative of the 2D Gaussian kernel can be obtained by computing $\\frac{d}{dx}G_\\sigma(x,y)$ and $\\frac{d}{dy}G_\\sigma(x,y)$."
   ]
  },
  {
   "cell_type": "markdown",
   "metadata": {
    "id": "eMgRkSaSa-7u"
   },
   "source": [
    "#### Question (5pts)\n",
    "A second order derivative of the Gaussian kernel can also be computed. Why\n",
    "is it interesting to design a second order kernel?"
   ]
  },
  {
   "cell_type": "markdown",
   "metadata": {
    "id": "HtsxpaP8bGqC"
   },
   "source": [
    "YOUR ANSWER"
   ]
  },
  {
   "cell_type": "markdown",
   "metadata": {
    "id": "OtMu-uUgbIHi"
   },
   "source": [
    "## 3.2 Gabor filters\n"
   ]
  },
  {
   "cell_type": "markdown",
   "metadata": {
    "id": "G40RQGvgsxAj"
   },
   "source": [
    "Gabor filters fall into the category of linear filters and are widely used for *texture analysis*. The reason why they are a good choice for texture analysis is that they localize well in the frequency spectrum (*optimally* bandlimited) and therefore work as flexible *band-pass* filters.\n",
    "\n",
    "In the following image you can see even (cosine-modulated) and odd parts (sine-modulated) of Gabor filters with fixed-σ Gaussian. You can observe time-domain filters for the modulating sinusoidals of central frequencies, 10, 20, 30, 40 and 50 Hz, respectively.\n"
   ]
  },
  {
   "cell_type": "markdown",
   "metadata": {
    "id": "Qs5KY3RIL23Z"
   },
   "source": [
    "![](https://drive.google.com/uc?export=view&id=1wv6ZUOfiHMDgg0jW7n5lqkaFiFztjnEo)"
   ]
  },
  {
   "cell_type": "markdown",
   "metadata": {
    "id": "yPyZ-8JveugN"
   },
   "source": [
    "Gabor filters with varying center frequencies are sensitive to different\n",
    "frequency bands. Notice that the neighboring (in the frequency spectrum) filters minimally interfere with each other."
   ]
  },
  {
   "cell_type": "markdown",
   "metadata": {
    "id": "zLgAHvd3MBxU"
   },
   "source": [
    "![](https://drive.google.com/uc?export=view&id=1hUQaKE_TwC-9_jMIao1CCxyjembMrUab)"
   ]
  },
  {
   "cell_type": "markdown",
   "metadata": {
    "id": "H1mP6EytbZE2"
   },
   "source": [
    "### 3.2.1 1D Gabor Filters"
   ]
  },
  {
   "cell_type": "markdown",
   "metadata": {
    "id": "f0qj4afHtBkK"
   },
   "source": [
    "For the sake of simplicity, we start by studying what a Gabor function is using 1D signals (e.g. speech). The idea will later be generalized to the 2D case, which is suited for our primary interest, images. A Gabor function is a Gaussian function modulated with a complex sinusoidal carrier signal. Let us denote the Gaussian with $x(t)$ and complex sinusoidal with $m(t)$. Then, a Gabor function $g(t)$ can be formulated by:\n",
    "\n",
    "$\n",
    "g(t) = x(t) m(t)   \n",
    "$ *(Eq. D)*\n",
    "\n",
    "where $x(t) = \\frac{1}{\\sqrt{2\\pi}\\sigma}e^{-\\frac{t^2}{2\\sigma^2}}$ and $m(t)=e^{j 2 \\pi f_c t} = e^{j w_c t}$. $\\sigma$ is the parameter determining the spread of the Gaussian and $w_c$ is the central frequency of the carrier signal.\n",
    "\n",
    "\n",
    "---\n",
    "\n",
    "\n",
    "**Hint:**\n",
    "A complex sinusoidal can be represented as follows using the *Euler's formula*:\n",
    "$e^{jwt} = \\cos(wt) + j\\sin(wt)$\n",
    "\n",
    "\n",
    "---\n",
    "\n",
    "\n",
    "\n",
    "Using Euler's formula, we get the following:\n",
    "\\begin{align}\n",
    "    g(t) &= x(t)m(t) \\\\\n",
    "    g(t) &= \\frac{1}{\\sqrt{2\\pi}\\sigma}e^{-\\frac{t^2}{2\\sigma^2}} e^{j w_c t} \\\\\n",
    "    g(t) &= \\frac{1}{\\sqrt{2\\pi}\\sigma}e^{-\\frac{t^2}{2\\sigma^2}} [\\cos(w_c t) + j\\sin(w_c t)]\n",
    "\\end{align}\n",
    "We can further arrange the terms and arrive at the following form\n",
    "\\begin{align}\n",
    "    g(t) = g_e(t) + jg_o(t)\n",
    "\\end{align}\n",
    "where $g_e(t)$ and $g_o(t)$ are the even and odd parts arranged orthogonally on the complex plane $\\mathbf{Z}^2$. In practice, one can use either the even or the odd part for filtering purposes (or one can use the complex form).  "
   ]
  },
  {
   "cell_type": "markdown",
   "metadata": {
    "id": "a2fL29EAbaYt"
   },
   "source": [
    "### 3.2.2 2D Gabor Filters"
   ]
  },
  {
   "cell_type": "markdown",
   "metadata": {
    "id": "8Wor-yxqtLnl"
   },
   "source": [
    "\n",
    "The Gabor filters can also be defined in 2D as well. The main difference lies in the dimensionality of the signals (i.e. carrier and gaussian). A sine wave in 2D is described by two orthogonal spatial frequencies $u_0$ and $v_0$ such that it is given as $s(x,y) = sin(2\\pi(u_0 x + v_0 y))$ where a 2D gaussian is simply $C e^{-(\\frac{(x-x_0)^2}{2\\sigma_x^2}) + \\frac{(y-y_0)^2}{2\\sigma_y^2})}$ with $C$ being a normalizing constant. 2D Gabor function then takes the following forms in the real and complex parts:\n",
    "\n",
    "\\begin{align}\n",
    "    g_{real}(x,y; \\lambda, \\theta, \\psi, \\sigma, \\gamma) = \\exp\\left(-\\frac{x^{\\prime2}+\\gamma^2 y^{\\prime2}}{2\\sigma^2}\\right)\n",
    "\\cos\\left( 2\\pi \\frac{x^{\\prime}}{\\lambda} + \\psi  \\right)                                              \n",
    "\\end{align}\n",
    "\\begin{align}\n",
    "g_{im}(x,y; \\lambda, \\theta, \\psi, \\sigma, \\gamma) &= \\exp\\left(-\\frac{x^{\\prime2}+\\gamma^2 y^{\\prime2}}{2\\sigma^2}\\right)\n",
    "\\sin\\left( 2\\pi \\frac{x^{\\prime}}{\\lambda} + \\psi  \\right)\n",
    "\\end{align}\n",
    "\n",
    "where\n",
    "\\begin{align}\n",
    "    x^\\prime &= x\\cos\\theta + y\\sin\\theta \\\\\n",
    "    y^\\prime &= -x\\sin\\theta + y\\cos\\theta\n",
    "\\end{align}"
   ]
  },
  {
   "cell_type": "markdown",
   "metadata": {
    "id": "32eQTHQobdGG"
   },
   "source": [
    "#### Question 4 (5pts)\n",
    "Conduct a self-study on the Gabor filters. Explain shortly what the parameters $\\lambda, \\theta, \\psi, \\sigma, \\gamma$ control."
   ]
  },
  {
   "cell_type": "markdown",
   "metadata": {
    "id": "UfCvFPCltWXs"
   },
   "source": [
    "λ: the wavelength of the sinusoidal carrier signal\n",
    "\n",
    "θ: the orientation of the normal to parallel stripes of the Gabor function\n",
    "\n",
    "ψ: phase offset of the sinusoidal carrier signal\n",
    "\n",
    "σ: the standard deviation of the Gaussian function\n",
    "\n",
    "γ: the spatial aspect ratio, that is the ellipticity of the Gaussian function"
   ]
  },
  {
   "cell_type": "markdown",
   "metadata": {
    "id": "WIpIVPE4tvE9"
   },
   "source": [
    "### Exercise "
   ]
  },
  {
   "cell_type": "markdown",
   "metadata": {
    "id": "_QVZG7MciTJn"
   },
   "source": [
    "##### Design array of Gabor Filters\n",
    "\n",
    "Now, you will create a Gabor Filterbank. A filterbank is a collection of filters with varying properties (e.g. {shape, texture}). A Gabor filterbank consists of Gabor filters of distinct orientations and scales. We will use this bank to extract texture information from the input image. "
   ]
  },
  {
   "cell_type": "markdown",
   "metadata": {
    "id": "xTqtQqRqvm6E"
   },
   "source": [
    "Your task is to implement function `createGabor` but to do that you will need some helper functions, which are defined below. Finish the implementation of those and then use them in `createGabor`."
   ]
  },
  {
   "cell_type": "code",
   "execution_count": 6,
   "metadata": {
    "id": "jeM6YS5blFZ-"
   },
   "outputs": [],
   "source": [
    "def generateRotationMatrix(theta):\n",
    "    # Returns the rotation matrix. \n",
    "    # Hint: https://en.wikipedia.org/wiki/Rotation_matrix\n",
    "    \n",
    "    rotMat = np.array( [ [np.cos(theta), - np.sin(theta) ], [ - np.sin(theta), np.cos(theta) ] ] )\n",
    "    return rotMat\n"
   ]
  },
  {
   "cell_type": "code",
   "execution_count": 7,
   "metadata": {
    "id": "zCXnvzLav1Xg"
   },
   "outputs": [],
   "source": [
    "def createCos(rot_x, lamda, psi):\n",
    "    # Returns the 2D cosine carrier. \n",
    "    \n",
    "    cosCarrier = np.cos(2*np.pi*rot_x/lamda + psi)\n",
    "\n",
    "    # Reshape the vector representation to matrix.\n",
    "    cosCarrier = np.reshape(cosCarrier, (np.int32(np.sqrt(len(cosCarrier))), -1))\n",
    "    return cosCarrier"
   ]
  },
  {
   "cell_type": "code",
   "execution_count": 8,
   "metadata": {
    "id": "xGPBzDW_v1c8"
   },
   "outputs": [],
   "source": [
    "def createSin(rot_x, lamda, psi):\n",
    "    # Returns the 2D sine carrier. \n",
    "    sinCarrier = np.sin(2*np.pi*rot_x/lamda + psi)\n",
    "\n",
    "    # Reshape the vector representation to matrix.\n",
    "    sinCarrier = np.reshape(sinCarrier, (np.int32(np.sqrt(len(sinCarrier))), -1))\n",
    "    return sinCarrier"
   ]
  },
  {
   "cell_type": "code",
   "execution_count": 9,
   "metadata": {
    "id": "pZYsGehtwBUf"
   },
   "outputs": [],
   "source": [
    "def createGauss(rot_x, rot_y, gamma, sigma):\n",
    "    # Returns the 2D Gaussian Envelope. \n",
    "\n",
    "    gaussEnv = np.exp(-(rot_x**2+gamma*rot_y**2)/2*sigma**2)\n",
    "    # Reshape the vector representation to matrix.\n",
    "    gaussEnv = np.reshape(gaussEnv, (np.int32(np.sqrt(len(gaussEnv))), -1))\n",
    "\n",
    "    return gaussEnv"
   ]
  },
  {
   "cell_type": "markdown",
   "metadata": {
    "id": "iCwJtg9fbgUz"
   },
   "source": [
    "Implement the function `createGabor` using above helper functions and equations for $g_{real} $ and $g_{im}$. \n"
   ]
  },
  {
   "cell_type": "code",
   "execution_count": 10,
   "metadata": {
    "id": "Lsf82AdMlbOO"
   },
   "outputs": [],
   "source": [
    "def createGabor(sigma, theta, lamda, psi, gamma):\n",
    "    '''\n",
    "    Creates a complex valued Gabor filter.\n",
    "    myGabor = createGabor(sigma, theta, lamda, psi, gamma) generates Gabor kernels. \n",
    "    :param sigma: Standard deviation of Gaussian envelope.\n",
    "    :param theta: Orientation of the Gaussian envelope. Takes arguments in the range [0, pi/2).\n",
    "    :param lamda: The wavelength for the carriers. The central frequency (w_c) of the carrier signals.\n",
    "    :param psi: Phase offset for the carrier signal, sin(w_c . t + psi).\n",
    "    :param gamma: Controls the aspect ratio of the Gaussian envelope\n",
    "    :return: myGabor - A matrix of size [h,w,2], holding the real and imaginary \n",
    "                        parts of the Gabor in myGabor(:,:,1) and myGabor(:,:,2), respectively.\n",
    "    '''\n",
    "\n",
    "    # Set the aspect ratio.\n",
    "    sigma_x = sigma\n",
    "    sigma_y = float(sigma)/gamma\n",
    "\n",
    "    # Generate a grid\n",
    "    nstds = 3\n",
    "    xmax = max(abs(nstds*sigma_x*np.cos(theta)),abs(nstds*sigma_y*np.sin(theta)))\n",
    "    xmax = np.ceil(max(1,xmax))\n",
    "    ymax = max(abs(nstds*sigma_x*np.sin(theta)),abs(nstds*sigma_y*np.cos(theta)))\n",
    "    ymax = np.ceil(max(1,ymax))\n",
    "\n",
    "    # Make sure that we get square filters. \n",
    "    xmax = max(xmax,ymax)\n",
    "    ymax = max(xmax,ymax)\n",
    "    xmin = -xmax \n",
    "    ymin = -ymax\n",
    "\n",
    "    # Generate a coordinate system in the range [xmin,xmax] and [ymin, ymax]. \n",
    "    [x,y] = np.meshgrid(np.arange(xmin, xmax+1), np.arange(ymin, ymax+1))\n",
    "\n",
    "    # Convert to a 2-by-N matrix where N is the number of pixels in the kernel.\n",
    "    XY = np.concatenate((x.reshape(1, -1), y.reshape(1, -1)), axis=0)\n",
    "\n",
    "    # Compute the rotation of pixels by theta.\n",
    "    # Hint: Create appropriate rotation matrix to compute the rotated pixel coordinates: rot(theta) * XY.\n",
    "    rotMat = generateRotationMatrix(theta)\n",
    "    rot_XY = np.matmul(rotMat, XY)\n",
    "    rot_x = rot_XY[0,:]\n",
    "    rot_y = rot_XY[1,:]\n",
    "\n",
    "\n",
    "    # Create the Gaussian envelope.\n",
    "    # IMPLEMENT the helper function createGauss above.\n",
    "    gaussianEnv = createGauss(rot_x, rot_y, gamma, sigma)\n",
    "\n",
    "    # Create the orthogonal carrier signals.\n",
    "    # IMPLEMENT the helper functions createCos and createSin above.\n",
    "    cosCarrier = createCos(rot_x, lamda, psi)\n",
    "    sinCarrier = createSin(rot_x, lamda, psi)\n",
    "\n",
    "    # Modulate (multiply) Gaussian envelope with the carriers to compute \n",
    "    # the real and imaginary components of the complex Gabor filter. \n",
    "\n",
    "    myGabor_real = createGauss(rot_x, rot_y, gamma, sigma) * createCos(rot_x, lamda, psi)  \n",
    "    myGabor_imaginary = createGauss(rot_x, rot_y, gamma, sigma) * createSin(rot_x, lamda, psi)\n",
    "\n",
    "    # Pack myGabor_real and myGabor_imaginary into myGabor.\n",
    "    h, w = myGabor_real.shape\n",
    "    myGabor = np.zeros((h, w, 2))\n",
    "    myGabor[:,:,0] = myGabor_real\n",
    "    myGabor[:,:,1] = myGabor_imaginary\n",
    "\n",
    "    # Uncomment below lines from \"fig = plt.figure()\" to see how are the gabor filters\n",
    "    #figure\n",
    "    #subplot(121), imshow(myGabor_real,[])\n",
    "    #subplot(122), imshow(myGabor_imaginary, [])\n",
    "\n",
    "    fig, axs = plt.subplots(1, 2)\n",
    "    fig.suptitle(f\"Gabor Filter with σ={round(sigma,2)}, θ={round(theta,2)}, γ={round(gamma,2)}, λ={round(lamda,2)}, ψ={round(psi,2)}\")\n",
    "    \n",
    "    # Real\n",
    "    axs[0].set_title(\"Real Gabor Filter\")\n",
    "    axs[0].axis(\"off\")\n",
    "    axs[0].imshow(myGabor_real)  \n",
    "    \n",
    "    # Imaginary\n",
    "    axs[1].set_title(\"Imaginary Gabor Filter\")\n",
    "    axs[1].axis(\"off\")\n",
    "    axs[1].imshow(myGabor_imaginary) \n",
    "\n",
    "    return myGabor\n",
    "\n"
   ]
  },
  {
   "cell_type": "markdown",
   "metadata": {
    "id": "38iQckSqkLjC"
   },
   "source": [
    "#### Question (5pts)\n",
    "Visualize how the parameters $\\theta$, $\\sigma$ and $\\gamma$ affect the filter in spatial domain. "
   ]
  },
  {
   "cell_type": "code",
   "execution_count": 40,
   "metadata": {
    "id": "Iv13duslkHKe"
   },
   "outputs": [
    {
     "data": {
      "image/png": "[encoded data removed]",
      "text/plain": [
       "<Figure size 432x288 with 2 Axes>"
      ]
     },
     "metadata": {
      "needs_background": "light"
     },
     "output_type": "display_data"
    },
    {
     "data": {
      "image/png": "[encoded data removed]",
      "text/plain": [
       "<Figure size 432x288 with 2 Axes>"
      ]
     },
     "metadata": {
      "needs_background": "light"
     },
     "output_type": "display_data"
    },
    {
     "data": {
      "image/png": "[encoded data removed]",
      "text/plain": [
       "<Figure size 432x288 with 2 Axes>"
      ]
     },
     "metadata": {
      "needs_background": "light"
     },
     "output_type": "display_data"
    },
    {
     "data": {
      "image/png": "[encoded data removed]",
      "text/plain": [
       "<Figure size 432x288 with 2 Axes>"
      ]
     },
     "metadata": {
      "needs_background": "light"
     },
     "output_type": "display_data"
    },
    {
     "data": {
      "image/png": "[encoded data removed]",
      "text/plain": [
       "<Figure size 432x288 with 2 Axes>"
      ]
     },
     "metadata": {
      "needs_background": "light"
     },
     "output_type": "display_data"
    },
    {
     "data": {
      "image/png": "[encoded data removed]",
      "text/plain": [
       "<Figure size 432x288 with 2 Axes>"
      ]
     },
     "metadata": {
      "needs_background": "light"
     },
     "output_type": "display_data"
    },
    {
     "data": {
      "image/png": "[encoded data removed]",
      "text/plain": [
       "<Figure size 432x288 with 2 Axes>"
      ]
     },
     "metadata": {
      "needs_background": "light"
     },
     "output_type": "display_data"
    },
    {
     "data": {
      "image/png": "[encoded data removed]",
      "text/plain": [
       "<Figure size 432x288 with 2 Axes>"
      ]
     },
     "metadata": {
      "needs_background": "light"
     },
     "output_type": "display_data"
    },
    {
     "data": {
      "image/png": "[encoded data removed]",
      "text/plain": [
       "<Figure size 432x288 with 2 Axes>"
      ]
     },
     "metadata": {
      "needs_background": "light"
     },
     "output_type": "display_data"
    }
   ],
   "source": [
    "# Constant parameters\n",
    "lamda = 100\n",
    "psi = 0\n",
    "\n",
    "# Experiment Parameters\n",
    "theta = [0,np.pi/4, np.pi/2]\n",
    "sigma = [0.05,0.25,0.5]\n",
    "gamma = [0.025, 0.1, 0.5]  # get numbers from exponential space\n",
    "\n",
    "# Test theta\n",
    "for t in theta:\n",
    "    s = 0.5\n",
    "    g = 0.1\n",
    "    gabor = createGabor(s, t, lamda, psi, g)       \n",
    "\n",
    "# Test sigma\n",
    "for s in sigma:\n",
    "    t = np.pi/4\n",
    "    g = 0.1\n",
    "    gabor = createGabor(s, t, lamda, psi, g)     \n",
    "            \n",
    "# Test gamma\n",
    "for g in gamma:\n",
    "    s = 0.25\n",
    "    t = np.pi/4\n",
    "    gabor = createGabor(s, t, lamda, psi, g)"
   ]
  },
  {
   "cell_type": "markdown",
   "metadata": {},
   "source": [
    "As can be seen from the results:\n",
    "- Theta affects the angle of the pattern in the filter. With a value of 0 we get a vertical pattern, whereas with a value of π/2 we get a horizontal pattern.\n",
    "\n",
    "- Sigma affects how \"zoomed in\" the pattern is. With a lower value it is zoomed in, whereas with a higher value it is zoomed out (Need to think about it more here?)\n",
    "\n",
    "- Gamma affects the pattern in a similar way to how sigma does but inversed. With a lower value the pattern is zoomed out, whereas with a higher value it is zoomed in.\n",
    "\n"
   ]
  },
  {
   "cell_type": "markdown",
   "metadata": {
    "id": "E41QZ9ZsO6vf"
   },
   "source": [
    "# 4 Applications in image processing "
   ]
  },
  {
   "cell_type": "markdown",
   "metadata": {
    "id": "xXyH4WNDJtSK"
   },
   "source": [
    "## 4.1 Noise in digital images"
   ]
  },
  {
   "cell_type": "markdown",
   "metadata": {
    "id": "m0vlajJhKojZ"
   },
   "source": [
    "The quality of digital images can be affected in different ways. For example, the\n",
    "acquisition process can be very noisy and with a low-resolution (e.g. some medical\n",
    "imaging modalities only generate a 128x128 image). Noise can also come from the\n",
    "user who set wrong parameters on the digital camera. Consequently, different computer vision algorithms are required to enhance noisy or corrupted images. With the\n",
    "growing amount of photos taken every day, image enhancement has then become a\n",
    "very active area of research.\n",
    "\n",
    "In this section, we only focus on simple algorithms to correct noise coming typically from the sensor of your camera. Many other types of noise or corruption can happen but are out of the scope of this assignment."
   ]
  },
  {
   "cell_type": "markdown",
   "metadata": {
    "id": "1gZn2TPQKtA8"
   },
   "source": [
    "### 4.1.1 Salt-and-pepper noise"
   ]
  },
  {
   "cell_type": "markdown",
   "metadata": {
    "id": "b_vRqsMUK3XV"
   },
   "source": [
    "Noise can also occur with over-exposition causing a ”hot” pixel or with a defective\n",
    "sensor causing a ”dead” pixel. This is called salt-and-pepper noise. Pixels in the\n",
    "image are randomly replaced by either a white or black pixel."
   ]
  },
  {
   "cell_type": "markdown",
   "metadata": {
    "id": "CcgoNmEWK7Zk"
   },
   "source": [
    "### 4.1.2 Additive Gaussian noise"
   ]
  },
  {
   "cell_type": "markdown",
   "metadata": {
    "id": "9sQFRLM8LA2e"
   },
   "source": [
    "Noise also occurs frequently when the camera heats up. This is called thermal noise\n",
    "and this can be modeled as an additive Gaussian noise. Every pixel in the image\n",
    "has a noise component that corresponds to a random value chosen independently\n",
    "from the same Gaussian probability distribution. The Gaussian distribution has a\n",
    "mean of 0 and its standard deviation corresponds to a parameter.\n",
    "\n",
    "\\begin{equation}\n",
    "\\begin{array}{rl}\n",
    "\\mathbf{I}^{\\prime}(x) = \\mathbf{I}(x) + \\epsilon \\text{, where } \\epsilon \\sim  \\mathcal{N}(0, \\sigma^2)\n",
    "\\end{array}\n",
    "\\end{equation}\n",
    "\n",
    "where $\\mathbf{I}^{\\prime}$ is the noisy image and $\\mathbf{I}$ is the original image without any noise $\\epsilon$."
   ]
  },
  {
   "cell_type": "markdown",
   "metadata": {
    "id": "a8rYWOruVbNB"
   },
   "source": [
    "## 4.2 Image denoising"
   ]
  },
  {
   "cell_type": "markdown",
   "metadata": {
    "id": "g4WNOpLWVlnA"
   },
   "source": [
    "### 4.2.1 Quantitative evaluation"
   ]
  },
  {
   "cell_type": "markdown",
   "metadata": {
    "id": "RI5c7v3zVsbD"
   },
   "source": [
    "The peak signal-to-noise ratio (PSNR) is a commonly used metric to quantitatively evaluate the performance of image enhancement algorithms. It is derived from the mean squared error (MSE):\n",
    "\n",
    "\\begin{equation}\n",
    "\\begin{array}{rl}\n",
    "MSE = \\frac{1}{m \\cdot n}\\sum\\limits_{x,y}\\Big[\\mathbf{I}(x,y) - \\mathbf{\\hat{I}}(x,y)\\Big]^2\n",
    "\\end{array}\n",
    "\\end{equation}\n",
    "where $\\mathbf{I}$ is the original image of size $m\\times n$ and $\\mathbf{\\hat{I}}$ its approximation (i.e. in our case an enhanced corrupted image). The PSNR corresponds to:\n",
    "\n",
    "\\begin{equation}\n",
    "\\begin{split}\n",
    "PSNR & = 10 \\cdot \\log_{10} \\Big(\\frac{\\mathbf{I}_{max}^2}{MSE}\\Big) \\\\\n",
    " & = 20 \\cdot \\log_{10} \\Big(\\frac{\\mathbf{I}_{max}}{\\sqrt{MSE}}\\Big) \\\\\n",
    " & = 20 \\cdot \\log_{10} \\Big(\\frac{\\mathbf{I}_{max}}{RMSE}\\Big)\n",
    "\\end{split}\n",
    "\\end{equation}\n",
    "where $\\mathbf{I}_{max}$ is the maximum pixel value of $\\mathbf{I}$ and RMSE is the root of the MSE.\n",
    "\n"
   ]
  },
  {
   "cell_type": "markdown",
   "metadata": {
    "id": "0YIwJ8fSYgBu"
   },
   "source": [
    "###Exercise"
   ]
  },
  {
   "cell_type": "markdown",
   "metadata": {
    "id": "Vw8ev7NXYpKj"
   },
   "source": [
    "Implement **myPSNR**\n",
    "\n",
    "**Note:** You are not allowed to use the Python built-in functions provided in *PIL* and *Skimage*."
   ]
  },
  {
   "cell_type": "code",
   "execution_count": null,
   "metadata": {
    "id": "AzrSRfzrZVhd"
   },
   "outputs": [],
   "source": [
    "def myPSNR(orig_image, approx_image):\n",
    "  \"\"\"\n",
    "  ================\n",
    "  Your code here\n",
    "  ================\n",
    "  \"\"\"\n",
    "  return PSNR"
   ]
  },
  {
   "cell_type": "markdown",
   "metadata": {
    "id": "a6fuj5vMWw33"
   },
   "source": [
    "### Questions (10 pts)\n",
    "1.   Explain briefly in your own words what the PSNR is (without any equations). When comparing different methods with the PSNR metric, is a higher value the better or the opposite?\n"
   ]
  },
  {
   "cell_type": "markdown",
   "metadata": {
    "id": "wPB_GO6QbMzH"
   },
   "source": [
    "YOUR ANSWER HERE"
   ]
  },
  {
   "cell_type": "markdown",
   "metadata": {
    "id": "hO26559KbNN-"
   },
   "source": [
    "2.   Using your implemented function **myPSNR**, compute the PSNR between image1_saltpepper.jpg and image1.jpg. What PSNR value did you get?\n",
    "\n",
    "  **Hint:**\n",
    "Make sure that dtype of image is float32."
   ]
  },
  {
   "cell_type": "markdown",
   "metadata": {
    "id": "5rUxvvozbQSf"
   },
   "source": [
    "YOUR ANSWER HERE"
   ]
  },
  {
   "cell_type": "markdown",
   "metadata": {
    "id": "4YS86lVJbNQh"
   },
   "source": [
    "3.   Using your implemented function **myPSNR**, compute the PSNR between image1_gaussian.jpg and image1.jpg. What PSNR value did you get?"
   ]
  },
  {
   "cell_type": "markdown",
   "metadata": {
    "id": "rIMB6x5-Ydbo"
   },
   "source": [
    "YOUR ANSWER HERE"
   ]
  },
  {
   "cell_type": "markdown",
   "metadata": {
    "id": "7-pj7HA9aqAq"
   },
   "source": [
    "### 4.2.2 Neighborhood processing for image denoising"
   ]
  },
  {
   "cell_type": "markdown",
   "metadata": {
    "id": "1lpNUDhxayLY"
   },
   "source": [
    "We will now design filters to remove these two types of noise. The function will denoise the image by either applying:\n",
    "\n",
    "1. *box filtering*: You can use **cv2.blur** function.\n",
    "2. *median filtering*: You can use **cv2.medianBlur** function.\n",
    "3. *Gaussian filtering*: You must use your **cv2.GaussianBlur** function."
   ]
  },
  {
   "cell_type": "markdown",
   "metadata": {
    "id": "z_OMxltHbh2j"
   },
   "source": [
    "###Exercise"
   ]
  },
  {
   "cell_type": "markdown",
   "metadata": {
    "id": "rhSp8tBubucj"
   },
   "source": [
    "Implement **denoise**\n",
    "\n",
    "**Hints:** \n",
    "1. **kernel_type** is just a string to specify the kernel type.\n",
    "2. ****kwargs** allows to have an undefined key-value pairs in a Python function. For example, you can have **sigma** and  **kernel_size** as argument when using a Gaussian kernel but only **kernel_size** when using a box kernel. For more information about how ****kwargs** works, take a look at [usage of kwargs](https://book.pythontips.com/en/latest/args_and_kwargs.html#usage-of-kwargs)."
   ]
  },
  {
   "cell_type": "code",
   "execution_count": null,
   "metadata": {
    "id": "ASH65zVMdCsq"
   },
   "outputs": [],
   "source": [
    "def denoise(image, kernel_type):\n",
    "  if kernel_type == 'box':\n",
    "    print('Not implemented')\n",
    "  elif kernel_type == 'median':\n",
    "    print('Not implemented')\n",
    "  elif kernel_type == 'gaussian':\n",
    "    print('Not implemented')\n",
    "  else:\n",
    "    print('Operation Not implemented')\n",
    "  return imOut"
   ]
  },
  {
   "cell_type": "markdown",
   "metadata": {
    "id": "isKllbE-d1id"
   },
   "source": [
    "### Question (20 pts)\n",
    "1.   Using your implemented function **denoise**, try denoising image1_saltpepper.jpg and image1_gaussian.jpg by applying the following filters:\n",
    "\n",
    "      (a) Box filtering of size: 3x3, 5x5, and 7x7.\n",
    "\n",
    "      (b) Median filtering with size: 3x3, 5x5 and 7x7.\n",
    "\n",
    "     Show the denoised images in the cell below. You can use tables to present your quantitative results.\n",
    "\n"
   ]
  },
  {
   "cell_type": "markdown",
   "metadata": {
    "id": "Y35OFjCvgeWV"
   },
   "source": [
    "YOUR ANSWER HERE"
   ]
  },
  {
   "cell_type": "markdown",
   "metadata": {
    "id": "Ih0Xb1WZcaAs"
   },
   "source": [
    "2.   Using your implemented function **myPSNR**, compute the PSNR for every denoised image (12 in total) wrt the original image. What is the effect of the filter size on the PSNR? Report the results (in a table) and discuss."
   ]
  },
  {
   "cell_type": "markdown",
   "metadata": {
    "id": "kXmdRw3Tcjct"
   },
   "source": [
    "YOUR ANSWER HERE"
   ]
  },
  {
   "cell_type": "markdown",
   "metadata": {
    "id": "UF2XuuyKcbcB"
   },
   "source": [
    "3.   Which is better for the salt-and-pepper noise, box or median filters? Why? What about the Gaussian noise?\n"
   ]
  },
  {
   "cell_type": "markdown",
   "metadata": {
    "id": "DjeTDaI_ckYH"
   },
   "source": [
    "YOUR ANSWER HERE"
   ]
  },
  {
   "cell_type": "markdown",
   "metadata": {
    "id": "KoMfg5eccdAX"
   },
   "source": [
    "\n",
    "4.   Try denoising image1_gaussian.jpg using a Gaussian filtering. Choose an appropriate window size and standard deviation and justify your choice. Show the denoised images in the cell below.\n"
   ]
  },
  {
   "cell_type": "markdown",
   "metadata": {
    "id": "ZBF3hOk-pnAA"
   },
   "source": [
    "YOUR ANSWER HERE"
   ]
  },
  {
   "cell_type": "markdown",
   "metadata": {
    "id": "HbhpdDM9ceii"
   },
   "source": [
    "\n",
    "5.   What is the effect of the standard deviation on the PSNR? Report the results (in a table) and discuss.\n"
   ]
  },
  {
   "cell_type": "markdown",
   "metadata": {
    "id": "IDaSrQvXclwD"
   },
   "source": [
    "YOUR ANSWER HERE"
   ]
  },
  {
   "cell_type": "markdown",
   "metadata": {
    "id": "_7ZZvTGxcfp5"
   },
   "source": [
    "\n",
    "6.   What is the difference among median filtering, box filtering and Gaussian filtering? Briefly explain how they are different at a conceptual level. If two filtering methods give a PSNR in the same ballpark, can you see a qualitative difference?"
   ]
  },
  {
   "cell_type": "markdown",
   "metadata": {
    "id": "e9xrXuV7cmS1"
   },
   "source": [
    "YOUR ANSWER HERE"
   ]
  },
  {
   "cell_type": "markdown",
   "metadata": {
    "id": "ELQH1DgffAfX"
   },
   "source": [
    "## 4.3 Edge detection"
   ]
  },
  {
   "cell_type": "markdown",
   "metadata": {
    "id": "vtpvRJaQfHN6"
   },
   "source": [
    "Edges appear when there is a sharp change in brightness. In an image this usually corresponds to the boundaries of an object. Edge detection is a fundamental task used in many computer vision applications. One of them is road detection in autonomous driving, which is used for determining the vehicle trajectory.\n",
    "\n",
    "Many different techniques exist for computing the edges. In this section, we will focus on filters that extract the gradient of the image. We will try to detect the road in an still image."
   ]
  },
  {
   "cell_type": "markdown",
   "metadata": {
    "id": "jpC_NGfufN3R"
   },
   "source": [
    "### 4.3.1 First-order derivative filters\n"
   ]
  },
  {
   "cell_type": "markdown",
   "metadata": {
    "id": "8umfWKDIfZD3"
   },
   "source": [
    "**Sobel** kernels approximate the first derivative of a Gaussian filter. Below are the Sobel kernels used in the $x$ and $y$ directions.\n",
    "\n",
    "\\begin{equation}\n",
    "\\begin{array}{rl}\n",
    "G_x = \\begin{bmatrix} +1 & 0 & -1 \\\\ +2 & 0 & -2 \\\\ +1 & 0 & -1 \\end{bmatrix} * \\mathbf{I}\n",
    "\\end{array}\n",
    "\\end{equation}\n",
    "\n",
    "\\begin{equation}\n",
    "\\begin{array}{rl}\n",
    "G_y = \\begin{bmatrix} +1 & +2 & +1 \\\\ 0 & 0 & 0 \\\\ -1 & -2 & -1 \\end{bmatrix} * \\mathbf{I}\n",
    "\\end{array}\n",
    "\\end{equation}\n",
    "The gradient magnitude is defined as the square root of the sum of the squares of the horizontal ($G_x$) and the vertical ($G_y$) components of the gradient of an image, such that: \n",
    "\\begin{equation}\n",
    "G =\\sqrt {{G_x}^2+{G_y}^2}\n",
    "\\end{equation}\n",
    "The gradient direction is calculated as follows:\n",
    "\\begin{equation}\n",
    "\\theta= \\tan ^{ - 1}{\\frac{G_y}{G_x}}\n",
    "\\end{equation}\n"
   ]
  },
  {
   "cell_type": "markdown",
   "metadata": {
    "id": "D7bhn7zvh6bh"
   },
   "source": [
    "### Question (10 pts)\n",
    "Using your implemented function **compute_gradient** on image2.jpg, display the following figures:\n",
    "\n",
    "  1. The gradient of the image in the x-direction.\n",
    "\n",
    "  2. The gradient of the image in the y-direction.\n",
    "\n",
    "  3. The gradient magnitude of each pixel.\n",
    "\n",
    "  4. The gradient direction of each pixel.\n",
    "\n",
    "Discuss what kind of information every image conveys.\n",
    "\n"
   ]
  },
  {
   "cell_type": "markdown",
   "metadata": {
    "id": "e8Cy-LVfgjg4"
   },
   "source": [
    "YOUR ANSWER HERE"
   ]
  },
  {
   "cell_type": "markdown",
   "metadata": {
    "id": "yq-ynXBQgkQ3"
   },
   "source": [
    "###Exercise"
   ]
  },
  {
   "cell_type": "markdown",
   "metadata": {
    "id": "Fx_8_LPDgoeG"
   },
   "source": [
    "Implement **compute_gradient**\n",
    "\n",
    "**Note:** \n",
    "You are not allowed to use the Python built-in functions for computing gradient. But for doing 2D convolution, you can benefit from *scipy.signal.convolve2d* function."
   ]
  },
  {
   "cell_type": "code",
   "execution_count": null,
   "metadata": {
    "id": "xrmc2tRlgtcp"
   },
   "outputs": [],
   "source": [
    "def compute_gradient(image):\n",
    "  \"\"\"\n",
    "  ================\n",
    "  Your code here\n",
    "  ================\n",
    "  \"\"\"\n",
    "  return Gx, Gy, im_magnitude,im_direction"
   ]
  },
  {
   "cell_type": "markdown",
   "metadata": {
    "id": "kWWN7NEzi1Ly"
   },
   "source": [
    "### 4.3.2 Second-order derivative filters"
   ]
  },
  {
   "cell_type": "markdown",
   "metadata": {
    "id": "-rZSE3toi6iP"
   },
   "source": [
    "Compared to the Sobel filter, a Laplacian of Gaussian (LoG) relies on the second derivative of a Gaussian filter. Hence, it will focus on large gradients in the image. A LoG can be computed by the following three methods:\n",
    "\n",
    "\n",
    "\n",
    "*   method 1: Smoothing the image with a Gaussian kernel (kernel size of 5 and standard deviation of 0.5), then taking the Laplacian of the smoothed image (i.e. second derivative).\n",
    "*   method 2: Convolving the image directly with a LoG kernel (kernel size of 5 and standard deviation of 0.5).\n",
    "\n",
    "*   method 3: Taking the Difference of two Gaussians (DoG) computed at different scales $\\sigma_1$ and $\\sigma_2$.\n",
    "\n",
    "\n",
    "\n"
   ]
  },
  {
   "cell_type": "markdown",
   "metadata": {
    "id": "jFkZWEA7EmZB"
   },
   "source": [
    "###Exercise "
   ]
  },
  {
   "cell_type": "markdown",
   "metadata": {
    "id": "k5hqL-iUEnTz"
   },
   "source": [
    "Implement **compute_LoG**\n",
    "\n",
    "The function should be able to apply any of the above mentioned methods depending on the value passed to the parameter *LOG_type*\n",
    "\n",
    "**Note:** \n",
    "You are not allowed to use the Python built-in functions for computing LOG kernels. But for doing 2D convolution, you can benefit from *scipy.signal.convolve2d* function."
   ]
  },
  {
   "cell_type": "code",
   "execution_count": null,
   "metadata": {
    "id": "7oOpjcpnFDKY"
   },
   "outputs": [],
   "source": [
    "def compute_LoG(image, LOG_type):\n",
    "\n",
    "  if LOG_type == 1:\n",
    "      #method 1\n",
    "      \"\"\"\n",
    "      ================\n",
    "      Your code here\n",
    "      ================\n",
    "      \"\"\"\n",
    "\n",
    "  elif LOG_type == 2:\n",
    "      #method 2\n",
    "      \"\"\"\n",
    "      ================\n",
    "      Your code here\n",
    "      ================\n",
    "      \"\"\"\n",
    "\n",
    "  elif LOG_type == 3:\n",
    "      #method 3\n",
    "      \"\"\"\n",
    "      ================\n",
    "      Your code here\n",
    "      ================\n",
    "      \"\"\"\n",
    "\n",
    "  return imOut"
   ]
  },
  {
   "cell_type": "markdown",
   "metadata": {
    "id": "p5GSV9v2FMHA"
   },
   "source": [
    "### Questions (10 pts)\n",
    "\n",
    "1.   Test your function using image2.jpg and visualize your results using the three methods.\n",
    "\n",
    "\n",
    "\n"
   ]
  },
  {
   "cell_type": "markdown",
   "metadata": {
    "id": "HnXZnTGqqnVw"
   },
   "source": [
    "YOUR ANSWER HERE"
   ]
  },
  {
   "cell_type": "markdown",
   "metadata": {
    "id": "7DF4d8ZCgPgd"
   },
   "source": [
    "\n",
    "2.   Discuss the difference between applying the three methods.\n"
   ]
  },
  {
   "cell_type": "markdown",
   "metadata": {
    "id": "y1kbBulkgWsn"
   },
   "source": [
    "YOUR ANSWER HERE"
   ]
  },
  {
   "cell_type": "markdown",
   "metadata": {
    "id": "mDOR_Ee_gQy5"
   },
   "source": [
    "\n",
    "3.   In the first method, why is it important to convolve an image with a Gaussian before convolving with a Laplacian?\n",
    "\n"
   ]
  },
  {
   "cell_type": "markdown",
   "metadata": {
    "id": "Xfas5xWPgXSb"
   },
   "source": [
    "YOUR ANSWER HERE"
   ]
  },
  {
   "cell_type": "markdown",
   "metadata": {
    "id": "mONfgLCbgR-o"
   },
   "source": [
    "4.   In the third method, what is the best ratio between $\\sigma_1$ and $\\sigma_2$ to achieve the best approximation of the LoG? What is the purpose of having 2 standard deviations?\n",
    "\n"
   ]
  },
  {
   "cell_type": "markdown",
   "metadata": {
    "id": "IzCa85MtgYDM"
   },
   "source": [
    "YOUR ANSWER HERE"
   ]
  },
  {
   "cell_type": "markdown",
   "metadata": {
    "id": "p577tWgNgTFe"
   },
   "source": [
    "5.   What else is needed to improve the performance and isolate the road,  i.e. what else should be done? You don't have to provide any specific parameter or specific algorithm. Try to propose a direction which would be interesting to explore and how you would approach it.\n"
   ]
  },
  {
   "cell_type": "markdown",
   "metadata": {
    "id": "5mpHhL9BFlq4"
   },
   "source": [
    "YOUR ANSWER HERE"
   ]
  },
  {
   "cell_type": "markdown",
   "metadata": {
    "id": "5sgm7JVhFubg"
   },
   "source": [
    "## 4.4 Foreground-background separation"
   ]
  },
  {
   "cell_type": "markdown",
   "metadata": {
    "id": "ewTmbkTFHh01"
   },
   "source": [
    "Foreground-background separation is an important task in the field of computer vision (see Figure). In this exercise, you will implement a simple unsupervised algorithm that leverages the variations in texture to segment the foreground object from the background. We will assume the foreground object has a distinct combination of textures compared to background. As mentioned earlier, Gabor filters are well-suited for texture analysis thanks to their frequency domain characteristics. Therefore, we will use a collection of Gabor filters with varying scale and orientations which we call a *filter bank*. The outline of the algorithm is as follows:"
   ]
  },
  {
   "cell_type": "markdown",
   "metadata": {
    "id": "UScTstnoH8Yz"
   },
   "source": [
    "![](https://drive.google.com/uc?export=view&id=1w60xJ4UlG60Ie6ljRkHn0GJDdVu9eb5e)"
   ]
  },
  {
   "cell_type": "markdown",
   "metadata": {
    "id": "ieFPLOKTImzD"
   },
   "source": [
    "**(Left)** Input image, **(Middle)** Foreground mask, **(Right)** Masked object. Foreground-Background separation aims at masking out the salient object pixels from the background pixels."
   ]
  },
  {
   "cell_type": "markdown",
   "metadata": {
    "id": "-cggieAGXBNp"
   },
   "source": [
    "---\n",
    "\n",
    "**Algorithm 1** Foreground-Background Segmentation Algorithm\n",
    "\n",
    "---\n",
    "\n",
    "**Input:** $x$ - input image\n",
    "\n",
    "**Output:** $y$ - pixelwise labels\n",
    "\n",
    "\n",
    "\n",
    "1.   Convert to grayscale if necessary.\n",
    "\n",
    ">>**if** $x$ is RGB **then**\n",
    "\n",
    ">>>$x$ $\\leftarrow$ rgb2gray($x$)\n",
    "\n",
    ">>**end if**\n",
    "\n",
    "2.   Create Gabor filterbank, $\\mathcal{F}_{gabor}$, with varying $\\sigma$, $\\lambda$ and $\\theta$.\n",
    "\n",
    "3.   Filter $x$ with the filterbank. Store each output in $fmaps$.\n",
    "\n",
    "4.   Compute the magnitude of the complex $fmaps$. Store the results in $fmags$.\n",
    "\n",
    ">>$fmags$ $\\leftarrow$  $\\vert fmaps \\vert$\n",
    "\n",
    "5.   Smooth $fmags$.\n",
    "\n",
    ">>$fmags$ $\\leftarrow$  smooth($fmags$)\n",
    "\n",
    "6.   Convert $fmags$ into data matrix, $f$.\n",
    "\n",
    ">>$f$ $\\leftarrow$  reshape($fmags$)\n",
    "\n",
    "7.   Cluster $f$ using kmeans into two sets.\n",
    "\n",
    ">>$y$ $\\leftarrow$  kmeans($f$, 2)\n",
    "\n",
    "---\n"
   ]
  },
  {
   "cell_type": "markdown",
   "metadata": {
    "id": "Zo-iPmhla2G9"
   },
   "source": [
    "### Questions (20 pts)\n",
    "\n",
    "1.   Run the algorithm on all test images with the provided parameter settings. What do you observe? Explain shortly.\n"
   ]
  },
  {
   "cell_type": "markdown",
   "metadata": {
    "id": "UwYMD8qkdx5m"
   },
   "source": [
    "YOUR ANSWER HERE"
   ]
  },
  {
   "cell_type": "markdown",
   "metadata": {
    "id": "fG0G4XmldzDB"
   },
   "source": [
    "\n",
    "2.   Experiment with different $\\lambda$, $\\sigma$ and $\\theta$ settings until you get reasonable outputs. Report what parameter settings work better for each input image and try to explain why.\n",
    "\n",
    ">**Hint:** \n",
    "Don't change multiple variables at once. You might not need to change some at all.\n",
    "\n"
   ]
  },
  {
   "cell_type": "markdown",
   "metadata": {
    "id": "KMcXMskXdzFO"
   },
   "source": [
    "YOUR ANSWER HERE"
   ]
  },
  {
   "cell_type": "markdown",
   "metadata": {
    "id": "6NzeqBhJdzHv"
   },
   "source": [
    "3.   After you achieve good separation on all test images, run the script again with corresponding parameters but this time with\n",
    "\n",
    ">>>smoothingFlag = False\n",
    "\n",
    ">Describe what you observe at the output when smoothing is not applied on the magnitude images. Explain why it happens and try to reason about the motivation behind this step."
   ]
  },
  {
   "cell_type": "markdown",
   "metadata": {
    "id": "mCyG914YcKcb"
   },
   "source": [
    "YOUR ANSWER HERE"
   ]
  },
  {
   "cell_type": "markdown",
   "metadata": {
    "id": "hiDCgYrlcL9r"
   },
   "source": [
    "###Exercise"
   ]
  },
  {
   "cell_type": "markdown",
   "metadata": {
    "id": "mR5GreUHcPtd"
   },
   "source": [
    "Please get yourself familiar with provided skeleton code **gabor_segmentation**.py. Keep in mind that you will need your implementation of the **createGabor** function.\n",
    "\n",
    "When you succesfully implement it all, it should run without problems and produce a reasonable segmentation with the default parameters on **kobi.png**."
   ]
  },
  {
   "cell_type": "code",
   "execution_count": 15,
   "metadata": {
    "id": "N3f9_GNhvqH7"
   },
   "outputs": [
    {
     "ename": "error",
     "evalue": "OpenCV(3.4.2) c:\\projects\\opencv-python\\opencv\\modules\\imgproc\\src\\color.hpp:253: error: (-215:Assertion failed) VScn::contains(scn) && VDcn::contains(dcn) && VDepth::contains(depth) in function 'cv::CvtHelper<struct cv::Set<3,4,-1>,struct cv::Set<3,4,-1>,struct cv::Set<0,2,5>,2>::CvtHelper'\n",
     "output_type": "error",
     "traceback": [
      "\u001b[1;31m---------------------------------------------------------------------------\u001b[0m",
      "\u001b[1;31merror\u001b[0m                                     Traceback (most recent call last)",
      "\u001b[1;32m<ipython-input-15-f22fd392d2a2>\u001b[0m in \u001b[0;36m<module>\u001b[1;34m\u001b[0m\n\u001b[0;32m      1\u001b[0m \u001b[0mimage_id\u001b[0m \u001b[1;33m=\u001b[0m \u001b[1;34m\"Polar\"\u001b[0m\u001b[1;33m\u001b[0m\u001b[1;33m\u001b[0m\u001b[0m\n\u001b[1;32m----> 2\u001b[1;33m \u001b[0mimg\u001b[0m \u001b[1;33m=\u001b[0m \u001b[0mload_image\u001b[0m\u001b[1;33m(\u001b[0m\u001b[0mimage_id\u001b[0m\u001b[1;33m)\u001b[0m \u001b[1;31m# load an image with the Polar bear\u001b[0m\u001b[1;33m\u001b[0m\u001b[1;33m\u001b[0m\u001b[0m\n\u001b[0m\u001b[0;32m      3\u001b[0m \u001b[1;33m\u001b[0m\u001b[0m\n\u001b[0;32m      4\u001b[0m \u001b[0mshow_image\u001b[0m\u001b[1;33m(\u001b[0m\u001b[0mimg\u001b[0m\u001b[1;33m,\u001b[0m \u001b[1;34mf'Input image: {image_id}'\u001b[0m\u001b[1;33m)\u001b[0m\u001b[1;33m\u001b[0m\u001b[1;33m\u001b[0m\u001b[0m\n",
      "\u001b[1;32m<ipython-input-5-280ad29b298b>\u001b[0m in \u001b[0;36mload_image\u001b[1;34m(image_id)\u001b[0m\n\u001b[0;32m     13\u001b[0m   \u001b[1;32melif\u001b[0m \u001b[0mimage_id\u001b[0m \u001b[1;33m==\u001b[0m \u001b[1;34m'Polar'\u001b[0m\u001b[1;33m:\u001b[0m\u001b[1;33m\u001b[0m\u001b[1;33m\u001b[0m\u001b[0m\n\u001b[0;32m     14\u001b[0m     \u001b[0mimg\u001b[0m \u001b[1;33m=\u001b[0m \u001b[0mcv2\u001b[0m\u001b[1;33m.\u001b[0m\u001b[0mimread\u001b[0m\u001b[1;33m(\u001b[0m\u001b[1;34m'./sample_data/polar-bear-hiding.jpg'\u001b[0m\u001b[1;33m)\u001b[0m\u001b[1;33m\u001b[0m\u001b[1;33m\u001b[0m\u001b[0m\n\u001b[1;32m---> 15\u001b[1;33m     \u001b[0mimg\u001b[0m \u001b[1;33m=\u001b[0m \u001b[0mcv2\u001b[0m\u001b[1;33m.\u001b[0m\u001b[0mcvtColor\u001b[0m\u001b[1;33m(\u001b[0m\u001b[0mimg\u001b[0m\u001b[1;33m,\u001b[0m \u001b[0mcv2\u001b[0m\u001b[1;33m.\u001b[0m\u001b[0mCOLOR_BGR2RGB\u001b[0m\u001b[1;33m)\u001b[0m\u001b[1;33m\u001b[0m\u001b[1;33m\u001b[0m\u001b[0m\n\u001b[0m\u001b[0;32m     16\u001b[0m     \u001b[0mresize_factor\u001b[0m \u001b[1;33m=\u001b[0m \u001b[1;36m0.75\u001b[0m\u001b[1;33m\u001b[0m\u001b[1;33m\u001b[0m\u001b[0m\n\u001b[0;32m     17\u001b[0m   \u001b[1;32melif\u001b[0m \u001b[0mimage_id\u001b[0m \u001b[1;33m==\u001b[0m \u001b[1;34m'Robin-1'\u001b[0m\u001b[1;33m:\u001b[0m\u001b[1;33m\u001b[0m\u001b[1;33m\u001b[0m\u001b[0m\n",
      "\u001b[1;31merror\u001b[0m: OpenCV(3.4.2) c:\\projects\\opencv-python\\opencv\\modules\\imgproc\\src\\color.hpp:253: error: (-215:Assertion failed) VScn::contains(scn) && VDcn::contains(dcn) && VDepth::contains(depth) in function 'cv::CvtHelper<struct cv::Set<3,4,-1>,struct cv::Set<3,4,-1>,struct cv::Set<0,2,5>,2>::CvtHelper'\n"
     ]
    }
   ],
   "source": [
    "image_id = \"Polar\"\n",
    "img = load_image(image_id) # load an image with the Polar bear\n",
    "\n",
    "show_image(img, f'Input image: {image_id}')\n"
   ]
  },
  {
   "cell_type": "code",
   "execution_count": 16,
   "metadata": {
    "id": "abk-us2ZiR3k"
   },
   "outputs": [
    {
     "ename": "NameError",
     "evalue": "name 'img' is not defined",
     "output_type": "error",
     "traceback": [
      "\u001b[1;31m---------------------------------------------------------------------------\u001b[0m",
      "\u001b[1;31mNameError\u001b[0m                                 Traceback (most recent call last)",
      "\u001b[1;32m<ipython-input-16-ead678ed2b2b>\u001b[0m in \u001b[0;36m<module>\u001b[1;34m\u001b[0m\n\u001b[0;32m     10\u001b[0m \u001b[1;31m# input image.\u001b[0m\u001b[1;33m\u001b[0m\u001b[1;33m\u001b[0m\u001b[1;33m\u001b[0m\u001b[0m\n\u001b[0;32m     11\u001b[0m \u001b[1;33m\u001b[0m\u001b[0m\n\u001b[1;32m---> 12\u001b[1;33m \u001b[0mnumRows\u001b[0m\u001b[1;33m,\u001b[0m \u001b[0mnumCols\u001b[0m \u001b[1;33m=\u001b[0m \u001b[0mimg\u001b[0m\u001b[1;33m.\u001b[0m\u001b[0mshape\u001b[0m\u001b[1;33m\u001b[0m\u001b[1;33m\u001b[0m\u001b[0m\n\u001b[0m\u001b[0;32m     13\u001b[0m \u001b[1;33m\u001b[0m\u001b[0m\n\u001b[0;32m     14\u001b[0m \u001b[1;31m# Estimate the minimum and maximum of the wavelengths for the sinusoidal\u001b[0m\u001b[1;33m\u001b[0m\u001b[1;33m\u001b[0m\u001b[1;33m\u001b[0m\u001b[0m\n",
      "\u001b[1;31mNameError\u001b[0m: name 'img' is not defined"
     ]
    }
   ],
   "source": [
    "\n",
    "# Control settings\n",
    "visFlag       = False    #  Set to true to visualize filter responses.\n",
    "smoothingFlag = True   #  Set to true to postprocess filter outputs.\n",
    "\n",
    "# Design array of Gabor Filters\n",
    "# In this code section, you will create a Gabor Filterbank. A filterbank is\n",
    "# a collection of filters with varying properties (e.g. {shape, texture}).\n",
    "# A Gabor filterbank consists of Gabor filters of distinct orientations\n",
    "# and scales. We will use this bank to extract texture information from the\n",
    "# input image. \n",
    "\n",
    "numRows, numCols = img.shape\n",
    "\n",
    "# Estimate the minimum and maximum of the wavelengths for the sinusoidal\n",
    "# carriers. \n",
    "# ** This step is pretty much standard, therefore, you don't have to\n",
    "#    worry about it. It is cycles in pixels. **   \n",
    "lambdaMin = 4/np.sqrt(2)\n",
    "lambdaMax = np.sqrt(abs(numRows)**2 + abs(numCols)**2)\n",
    "\n",
    "# Specify the carrier wavelengths.  \n",
    "# (or the central frequency of the carrier signal, which is 1/lambda)\n",
    "n = np.floor(np.log2(lambdaMax/lambdaMin))\n",
    "lambdas = 2**np.arange(0, (n-2)+1) * lambdaMin\n",
    "\n",
    "# Define the set of orientations for the Gaussian envelope.\n",
    "dTheta       = 2 * np.pi/8                  # \\\\ the step size\n",
    "orientations = np.arange(0, np.pi+dTheta, dTheta)        \n",
    "\n",
    "# Define the set of sigmas for the Gaussian envelope. Sigma here defines \n",
    "# the standard deviation, or the spread of the Gaussian. \n",
    "sigmas = np.array([1,2])\n",
    "\n",
    "# Now you can create the filterbank. We provide you with a Python list\n",
    "# called gaborFilterBank in which we will hold the filters and their\n",
    "# corresponding parameters such as sigma, lambda and etc. \n",
    "# ** All you need to do is to implement createGabor(). Rest will be handled\n",
    "#    by the provided code block. **\n",
    "gaborFilterBank = []\n",
    "tic = time.time()\n",
    "for lmbda in lambdas:\n",
    "    for sigma in sigmas:\n",
    "        for theta in orientations:\n",
    "            # Filter parameter configuration for this filter.\n",
    "            psi    = 0\n",
    "            gamma  = 0.5\n",
    "            \n",
    "            # Create a Gabor filter with the specs above. \n",
    "            # (We also record the settings in which they are created. )\n",
    "            # // TODO: Implement the function createGabor() following\n",
    "            #          the guidelines in the given function template.\n",
    "            #          ** See createGabor.py for instructions ** //\n",
    "            filter_config = {}\n",
    "            filter_config[\"filterPairs\"] = createGabor( sigma, theta, lmbda, psi, gamma )\n",
    "            filter_config[\"sigma\"]       = sigma\n",
    "            filter_config[\"lmbda\"]       = lmbda\n",
    "            filter_config[\"theta\"]       = theta\n",
    "            filter_config[\"psi\"]         = psi\n",
    "            filter_config[\"gamma\"]       = gamma\n",
    "            gaborFilterBank.append(filter_config)\n",
    "ctime = time.time() - tic\n",
    "\n",
    "print('--------------------------------------\\n \\t\\tDetails\\n--------------------------------------')\n",
    "print(f'Total number of filters       : {len(gaborFilterBank)}')\n",
    "print(f'Number of scales (sigma)      : {len(sigmas)}')\n",
    "print(f'Number of orientations (theta): {len(orientations)}')\n",
    "print(f'Number of carriers (lambda)   : {len(lambdas)}')\n",
    "print(f'---------------------------------------')\n",
    "print(f'Filter bank created in {ctime} seconds.')\n",
    "print(f'---------------------------------------')\n",
    "\n",
    "# Filter images using Gabor filter bank using quadrature pairs (real and imaginary parts)\n",
    "# You will now filter the input image with each complex Gabor filter in \n",
    "# gaborFilterBank structure and store the output in the cell called \n",
    "# featureMaps. \n",
    "# // Hint-1: Apply both the real imaginary parts of each kernel \n",
    "#            separately in the spatial domain (i.e. over the image). //\n",
    "# // Hint-2: Assign each output (i.e. real and imaginary parts) in\n",
    "#            variables called real_out and imag_out. //\n",
    "# // Hint-3: Use built-in cv2 function, filter2D, to convolve the filter\n",
    "#            with the input image. Check the options for padding. Find \n",
    "#            the one that works well. You might want to\n",
    "#            explain what works better and why shortly in the report.\n",
    "featureMaps = []\n",
    "\n",
    "for gaborFilter in gaborFilterBank:\n",
    "    # gaborFilter[\"filterPairs\"] has two elements. One is related to the real part \n",
    "    # of the Gabor Filter and the other one is the imagineray part.\n",
    "    real_out = None  # \\\\TODO: filter the grayscale input with real part of the Gabor\n",
    "    imag_out = None  # \\\\TODO: filter the grayscale input with imaginary part of the Gabor\n",
    "    featureMaps.append(np.stack((real_out, imag_out), 2))\n",
    "    \n",
    "    # Visualize the filter responses if you wish.\n",
    "    if visFlag:\n",
    "        fig = plt.figure()\n",
    "\n",
    "        ax = fig.add_subplot(1, 2, 1)\n",
    "        ax.imshow(real_out)    # Real\n",
    "        title = \"Re[h(x,y)], \\n lambda = {0:.4f}, \\n theta = {1:.4f}, \\n sigma = {2:.4f}\".format(gaborFilter[\"lmbda\"], gaborFilter[\"theta\"], gaborFilter[\"sigma\"])\n",
    "        ax.set_title(title)\n",
    "        ax.axis(\"off\")\n",
    "\n",
    "        ax = fig.add_subplot(1, 2, 2)\n",
    "        ax.imshow(imag_out)    # Real\n",
    "        title = \"Im[h(x,y)], \\n lambda = {0:.4f}, \\n theta = {1:.4f}, \\n sigma = {2:.4f}\".format(gaborFilter[\"lmbda\"], gaborFilter[\"theta\"], gaborFilter[\"sigma\"])\n",
    "        ax.set_title(title)\n",
    "        ax.axis(\"off\")\n",
    "        plt.show()\n",
    "\n",
    "# Compute the magnitude\n",
    "# Now, you will compute the magnitude of the output responses.\n",
    "# \\\\ Hint: (real_part^2 + imaginary_part^2)^(1/2) \\\\\n",
    "featureMags = []\n",
    "for i, fm in enumerate(featureMaps):\n",
    "    real_part = fm[...,0]\n",
    "    imag_part = fm[...,1]\n",
    "    mag = None  # \\\\TODO: Compute the magnitude here\n",
    "    featureMags.append(mag)\n",
    "    \n",
    "    # Visualize the magnitude response if you wish.\n",
    "    if visFlag:\n",
    "        fig = plt.figure()\n",
    "\n",
    "        ax = fig.add_subplot(1, 1, 1)\n",
    "        ax.imshow(mag.astype(np.uint8))    # visualize magnitude\n",
    "        title = \"Re[h(x,y)], \\n lambda = {0:.4f}, \\n theta = {1:.4f}, \\n sigma = {2:.4f}\".format(gaborFilterBank[i][\"lmbda\"], \n",
    "                                                                                                 gaborFilterBank[i][\"theta\"], \n",
    "                                                                                                 gaborFilterBank[i][\"sigma\"])\n",
    "        ax.set_title(title)\n",
    "        ax.axis(\"off\")\n",
    "\n",
    "# Prepare and Preprocess features \n",
    "# You can think of each filter response as a sort of feature representation\n",
    "# for the pixels. Now that you have numFilters = |gaborFilterBank| filters, \n",
    "# we can represent each pixel by this many features. \n",
    "# \\\\ Q: What kind of features do you think gabor filters might correspond to? \n",
    "\n",
    "# You will now implement a smoothing operation over the magnitude images in\n",
    "# featureMags. \n",
    "# \\\\ Hint: For each i in [1, length(featureMags)], smooth featureMags{i}\n",
    "#          using an appropriate first order Gaussian kernel.\n",
    "# \\\\ Hint: cv2 filter2D function is helpful here.   \n",
    "features = np.zeros(shape=(numRows, numCols, len(featureMags)))\n",
    "if smoothingFlag:\n",
    "    pass\n",
    "    # \\\\TODO:\n",
    "    #FOR_LOOP\n",
    "        # i)  filter the magnitude response with appropriate Gaussian kernels\n",
    "        # ii) insert the smoothed image into features[:,:,j]\n",
    "    #END_FOR\n",
    "else:\n",
    "    # Don't smooth but just insert magnitude images into the matrix\n",
    "    # called features.\n",
    "    for i, fmag in enumerate(featureMags):\n",
    "        features[:,:,i] = fmag\n",
    "\n",
    "\n",
    "# Reshape the filter outputs (i.e. tensor called features) of size \n",
    "# [numRows, numCols, numFilters] into a matrix of size [numRows*numCols, numFilters]\n",
    "# This will constitute our data matrix which represents each pixel in the \n",
    "# input image with numFilters features.  \n",
    "features = np.reshape(features, newshape=(numRows * numCols, -1))\n",
    "\n",
    "\n",
    "# Standardize features. \n",
    "# \\\\ Hint: see http://ufldl.stanford.edu/wiki/index.php/Data_Preprocessing for more information.\n",
    "\n",
    "features = None  # \\\\ TODO: i)  Implement standardization on matrix called features.\n",
    "                 #          ii) Return the standardized data matrix.\n",
    "\n",
    "\n",
    "# (Optional) Visualize the saliency map using the first principal component \n",
    "# of the features matrix. It will be useful to diagnose possible problems \n",
    "# with the pipeline and filterbank.\n",
    "\n",
    "transformed_feature = PCA(n_components=1).fit_transform(features) # select the first component\n",
    "transformed_feature = np.ascontiguousarray(transformed_feature, dtype=np.float32)\n",
    "feature2DImage = np.reshape(transformed_feature,newshape=(numRows,numCols))\n",
    "plt.figure()\n",
    "plt.title(f'Pixel representation projected onto first PC')\n",
    "plt.imshow(feature2DImage, cmap='gray')\n",
    "plt.axis(\"off\") \n",
    "plt.show()\n",
    "\n",
    "# Apply k-means algorithm to cluster pixels using the data matrix,\n",
    "# features. \n",
    "# \\\\ Hint-1: search about sklearn kmeans function https://scikit-learn.org/stable/modules/generated/sklearn.cluster.KMeans.html.\n",
    "# \\\\ Hint-2: use the parameter k defined in the first section when calling\n",
    "#            sklearn's built-in kmeans function.\n",
    "tic = time.time()\n",
    "pixLabels = None  # \\\\TODO: Return cluster labels per pixel\n",
    "ctime = time.time() - tic\n",
    "print(f'Clustering completed in {ctime} seconds.')\n",
    "\n",
    "\n",
    "\n",
    "# Visualize the clustering by reshaping pixLabels into original grayscale\n",
    "# input size [numRows numCols].\n",
    "pixLabels = np.reshape(pixLabels, newshape=(numRows, numCols))\n",
    "plt.figure()\n",
    "plt.title(f'Pixel clusters')\n",
    "plt.imshow(pixLabels)\n",
    "plt.axis(\"off\") \n",
    "plt.show()\n",
    "\n",
    "\n",
    "# Use the pixLabels to visualize segmentation.\n",
    "Aseg1 = np.zeros_like(img)\n",
    "Aseg2 = np.zeros_like(img)\n",
    "BW = pixLabels == 2  # check for the value of your labels in pixLabels (could be 1 or 0 instead of 2)\n",
    "BW = np.repeat(BW[:, :, np.newaxis], 3, axis=2) # do this only if you have 3 channels in the img\n",
    "Aseg1[BW] = img[BW]\n",
    "Aseg2[~BW] = img[~BW]\n",
    "\n",
    "plt.figure()\n",
    "plt.title(f'montage')\n",
    "plt.imshow(Aseg1, 'gray', interpolation='none')\n",
    "plt.imshow(Aseg2, 'jet',  interpolation='none', alpha=0.7)\n",
    "plt.axis(\"off\")\n",
    "plt.show()"
   ]
  },
  {
   "cell_type": "code",
   "execution_count": null,
   "metadata": {},
   "outputs": [],
   "source": []
  }
 ],
 "metadata": {
  "colab": {
   "collapsed_sections": [
    "1oBHyce1saAI",
    "V2NtMMr9RSVv",
    "RkT7BklaTUmj",
    "762bvpRYTual",
    "-2ZB6tEeV_Ls",
    "ViVNlHPOa2Jd",
    "eMgRkSaSa-7u",
    "H1mP6EytbZE2",
    "a2fL29EAbaYt",
    "32eQTHQobdGG",
    "WIpIVPE4tvE9",
    "38iQckSqkLjC"
   ],
   "provenance": []
  },
  "kernelspec": {
   "display_name": "Python 3",
   "language": "python",
   "name": "python3"
  },
  "language_info": {
   "codemirror_mode": {
    "name": "ipython",
    "version": 3
   },
   "file_extension": ".py",
   "mimetype": "text/x-python",
   "name": "python",
   "nbconvert_exporter": "python",
   "pygments_lexer": "ipython3",
   "version": "3.6.15"
  }
 },
 "nbformat": 4,
 "nbformat_minor": 1
}
